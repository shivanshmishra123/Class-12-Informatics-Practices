{
 "cells": [
  {
   "cell_type": "markdown",
   "id": "bc70b53e",
   "metadata": {},
   "source": [
    "#  PTR\n",
    "The default value for sep is space.\n",
    "\n",
    "The parameter header specifies the number of the row whose values are to be used the column names. By default it is 0\n",
    "\n",
    "If we want to display the column with a label of our choice , after adding a comma we write names=[\"L1 \",\" L2\",\" L3\",\" L4\"]"
   ]
  },
  {
   "cell_type": "markdown",
   "id": "57fabaf9",
   "metadata": {},
   "source": [
    "# Importing From CSV"
   ]
  },
  {
   "cell_type": "code",
   "execution_count": 4,
   "id": "314fd765",
   "metadata": {},
   "outputs": [
    {
     "data": {
      "text/html": [
       "<div>\n",
       "<style scoped>\n",
       "    .dataframe tbody tr th:only-of-type {\n",
       "        vertical-align: middle;\n",
       "    }\n",
       "\n",
       "    .dataframe tbody tr th {\n",
       "        vertical-align: top;\n",
       "    }\n",
       "\n",
       "    .dataframe thead th {\n",
       "        text-align: right;\n",
       "    }\n",
       "</style>\n",
       "<table border=\"1\" class=\"dataframe\">\n",
       "  <thead>\n",
       "    <tr style=\"text-align: right;\">\n",
       "      <th></th>\n",
       "      <th>Roll No</th>\n",
       "      <th>Name</th>\n",
       "      <th>Eco</th>\n",
       "      <th>Maths</th>\n",
       "    </tr>\n",
       "  </thead>\n",
       "  <tbody>\n",
       "    <tr>\n",
       "      <th>0</th>\n",
       "      <td>1</td>\n",
       "      <td>Arnab</td>\n",
       "      <td>85</td>\n",
       "      <td>100</td>\n",
       "    </tr>\n",
       "    <tr>\n",
       "      <th>1</th>\n",
       "      <td>2</td>\n",
       "      <td>Kritika</td>\n",
       "      <td>63</td>\n",
       "      <td>60</td>\n",
       "    </tr>\n",
       "    <tr>\n",
       "      <th>2</th>\n",
       "      <td>3</td>\n",
       "      <td>Divyam</td>\n",
       "      <td>47</td>\n",
       "      <td>90</td>\n",
       "    </tr>\n",
       "    <tr>\n",
       "      <th>3</th>\n",
       "      <td>4</td>\n",
       "      <td>Vivan</td>\n",
       "      <td>80</td>\n",
       "      <td>82</td>\n",
       "    </tr>\n",
       "    <tr>\n",
       "      <th>4</th>\n",
       "      <td>5</td>\n",
       "      <td>Aaroosh</td>\n",
       "      <td>100</td>\n",
       "      <td>95</td>\n",
       "    </tr>\n",
       "  </tbody>\n",
       "</table>\n",
       "</div>"
      ],
      "text/plain": [
       "   Roll No     Name  Eco  Maths\n",
       "0        1    Arnab   85    100\n",
       "1        2  Kritika   63     60\n",
       "2        3   Divyam   47     90\n",
       "3        4    Vivan   80     82\n",
       "4        5  Aaroosh  100     95"
      ]
     },
     "execution_count": 4,
     "metadata": {},
     "output_type": "execute_result"
    }
   ],
   "source": [
    "import pandas as pd\n",
    "marks = pd.read_csv(\"C:/Users/Sarveshwar Mishra/Desktop/Book1.csv\",sep=\",\",header=0)\n",
    "marks"
   ]
  },
  {
   "cell_type": "markdown",
   "id": "3fe865c3",
   "metadata": {},
   "source": [
    "# Exporting as a CSV\n",
    "\n",
    "If we do not want the column names to be saved to the file we may use the parameter header=False\n",
    "\n",
    "Similarly for row, index =  False"
   ]
  },
  {
   "cell_type": "code",
   "execution_count": 11,
   "id": "aee7d343",
   "metadata": {},
   "outputs": [],
   "source": [
    "ResultSheet = {\"Arnab\":pd.Series([90,91,97],index=[\"Maths\",\"Science\",\"Hindi\"]),\n",
    "              \"Riya\":pd.Series([100,95,78],index=[\"Maths\",\"Science\",\"Hindi\"]),\n",
    "              \"Ishita\":pd.Series([47,100,98],index=[\"Maths\",\"Science\",\"Hindi\"]),\n",
    "              \"Samridhi\":pd.Series([97,52,100],index=[\"Maths\",\"Science\",\"Hindi\"]),\n",
    "              \"Rohan\":pd.Series([89,82,77],index=[\"Maths\",\"Science\",\"Hindi\"])}\n",
    "df = pd.DataFrame(ResultSheet)"
   ]
  },
  {
   "cell_type": "code",
   "execution_count": 12,
   "id": "ca9f5634",
   "metadata": {},
   "outputs": [],
   "source": [
    "df.to_csv(path_or_buf=\"C:/Users/Sarveshwar Mishra/Desktop/ResultSheet.csv\",sep=\",\")"
   ]
  }
 ],
 "metadata": {
  "kernelspec": {
   "display_name": "Python 3 (ipykernel)",
   "language": "python",
   "name": "python3"
  },
  "language_info": {
   "codemirror_mode": {
    "name": "ipython",
    "version": 3
   },
   "file_extension": ".py",
   "mimetype": "text/x-python",
   "name": "python",
   "nbconvert_exporter": "python",
   "pygments_lexer": "ipython3",
   "version": "3.10.5"
  }
 },
 "nbformat": 4,
 "nbformat_minor": 5
}
