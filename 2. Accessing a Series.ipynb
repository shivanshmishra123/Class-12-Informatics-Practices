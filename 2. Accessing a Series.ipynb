{
 "cells": [
  {
   "cell_type": "markdown",
   "id": "ae88409f",
   "metadata": {},
   "source": [
    "# Indexing\n",
    "\n",
    "Note:- Indexing can be of two types:-\n",
    "Positional :- Takes integer value starting from 0\n",
    "\n",
    "Labelled:- Takes any user definaed label as index"
   ]
  },
  {
   "cell_type": "code",
   "execution_count": 2,
   "id": "f4e1fb03",
   "metadata": {},
   "outputs": [
    {
     "data": {
      "text/plain": [
       "0     10\n",
       "1     20\n",
       "2     30\n",
       "3     40\n",
       "4     50\n",
       "5     60\n",
       "6     70\n",
       "7     80\n",
       "8     90\n",
       "9    100\n",
       "dtype: int64"
      ]
     },
     "execution_count": 2,
     "metadata": {},
     "output_type": "execute_result"
    }
   ],
   "source": [
    "import pandas as pd\n",
    "ser1=pd.Series([10,20,30,40,50,60,70,80,90,100])\n",
    "ser1"
   ]
  },
  {
   "cell_type": "code",
   "execution_count": 3,
   "id": "27693983",
   "metadata": {},
   "outputs": [
    {
     "data": {
      "text/plain": [
       "30"
      ]
     },
     "execution_count": 3,
     "metadata": {},
     "output_type": "execute_result"
    }
   ],
   "source": [
    "ser1[2]"
   ]
  },
  {
   "cell_type": "code",
   "execution_count": 4,
   "id": "a4af3ac6",
   "metadata": {},
   "outputs": [
    {
     "data": {
      "text/plain": [
       "10"
      ]
     },
     "execution_count": 4,
     "metadata": {},
     "output_type": "execute_result"
    }
   ],
   "source": [
    "ser1[0]"
   ]
  },
  {
   "cell_type": "code",
   "execution_count": 5,
   "id": "58d2480e",
   "metadata": {},
   "outputs": [],
   "source": [
    "ser1=pd.Series([10,20,30,40,50,60,70,80,90,100],index=[1,2,3,4,5,6,7,8,9,10])"
   ]
  },
  {
   "cell_type": "code",
   "execution_count": 6,
   "id": "32af0b2c",
   "metadata": {},
   "outputs": [
    {
     "data": {
      "text/plain": [
       "20"
      ]
     },
     "execution_count": 6,
     "metadata": {},
     "output_type": "execute_result"
    }
   ],
   "source": [
    "# Now the ser[2] is not 30 anymore, now it is 20\n",
    "ser1[2]"
   ]
  },
  {
   "cell_type": "markdown",
   "id": "f7052fc2",
   "metadata": {},
   "source": [
    "# Slicing\n",
    "\n",
    "When we use positional indicces for slicing, the value at the endindex is excluded. But when we use labelled indexes so the value at the end index laabel is also included in the outputs."
   ]
  },
  {
   "cell_type": "code",
   "execution_count": 7,
   "id": "268c833d",
   "metadata": {},
   "outputs": [
    {
     "data": {
      "text/plain": [
       "1      10\n",
       "2      20\n",
       "3      30\n",
       "4      40\n",
       "5      50\n",
       "6      60\n",
       "7      70\n",
       "8      80\n",
       "9      90\n",
       "10    100\n",
       "dtype: int64"
      ]
     },
     "execution_count": 7,
     "metadata": {},
     "output_type": "execute_result"
    }
   ],
   "source": [
    "# Syntax is ser1[start:end:step/dirn]\n",
    "ser1[::] #Takes in default 0 as the value of start, last index as end and step as 1"
   ]
  },
  {
   "cell_type": "code",
   "execution_count": 8,
   "id": "5cf35aa9",
   "metadata": {},
   "outputs": [
    {
     "data": {
      "text/plain": [
       "2      20\n",
       "3      30\n",
       "4      40\n",
       "5      50\n",
       "6      60\n",
       "7      70\n",
       "8      80\n",
       "9      90\n",
       "10    100\n",
       "dtype: int64"
      ]
     },
     "execution_count": 8,
     "metadata": {},
     "output_type": "execute_result"
    }
   ],
   "source": [
    "ser1[1::]"
   ]
  },
  {
   "cell_type": "code",
   "execution_count": 11,
   "id": "7becdf4b",
   "metadata": {},
   "outputs": [
    {
     "data": {
      "text/plain": [
       "2      20\n",
       "4      40\n",
       "6      60\n",
       "8      80\n",
       "10    100\n",
       "dtype: int64"
      ]
     },
     "execution_count": 11,
     "metadata": {},
     "output_type": "execute_result"
    }
   ],
   "source": [
    "ser1[1::2]"
   ]
  },
  {
   "cell_type": "code",
   "execution_count": 13,
   "id": "89cdc974",
   "metadata": {},
   "outputs": [
    {
     "data": {
      "text/plain": [
       "10    100\n",
       "9      90\n",
       "8      80\n",
       "7      70\n",
       "6      60\n",
       "5      50\n",
       "4      40\n",
       "3      30\n",
       "2      20\n",
       "1      10\n",
       "dtype: int64"
      ]
     },
     "execution_count": 13,
     "metadata": {},
     "output_type": "execute_result"
    }
   ],
   "source": [
    "ser1[::-1]"
   ]
  },
  {
   "cell_type": "code",
   "execution_count": null,
   "id": "7045d125",
   "metadata": {},
   "outputs": [],
   "source": []
  }
 ],
 "metadata": {
  "kernelspec": {
   "display_name": "Python 3 (ipykernel)",
   "language": "python",
   "name": "python3"
  },
  "language_info": {
   "codemirror_mode": {
    "name": "ipython",
    "version": 3
   },
   "file_extension": ".py",
   "mimetype": "text/x-python",
   "name": "python",
   "nbconvert_exporter": "python",
   "pygments_lexer": "ipython3",
   "version": "3.10.5"
  }
 },
 "nbformat": 4,
 "nbformat_minor": 5
}
